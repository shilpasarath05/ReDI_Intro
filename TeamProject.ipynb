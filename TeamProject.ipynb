{
  "nbformat": 4,
  "nbformat_minor": 0,
  "metadata": {
    "colab": {
      "name": "TeamProject.ipynb",
      "provenance": [],
      "authorship_tag": "ABX9TyN1V7MHrYSBbrxG2uGQ4DOy",
      "include_colab_link": true
    },
    "kernelspec": {
      "name": "python3",
      "display_name": "Python 3"
    },
    "language_info": {
      "name": "python"
    }
  },
  "cells": [
    {
      "cell_type": "markdown",
      "metadata": {
        "id": "view-in-github",
        "colab_type": "text"
      },
      "source": [
        "<a href=\"https://colab.research.google.com/github/shilpasarath05/ReDI_Intro_Python/blob/main/TeamProject.ipynb\" target=\"_parent\"><img src=\"https://colab.research.google.com/assets/colab-badge.svg\" alt=\"Open In Colab\"/></a>"
      ]
    },
    {
      "cell_type": "code",
      "execution_count": null,
      "metadata": {
        "id": "AspIQtUh5_OX"
      },
      "outputs": [],
      "source": [
        "#Program for guessing the correct number between 1 and 100\n",
        "\n",
        "#Lower limit\n",
        "my_minimum = 0\n",
        "#Higher limit\n",
        "my_maximum = 100\n",
        "#Guessed number\n",
        "correct_number = 25"
      ]
    }
  ]
}